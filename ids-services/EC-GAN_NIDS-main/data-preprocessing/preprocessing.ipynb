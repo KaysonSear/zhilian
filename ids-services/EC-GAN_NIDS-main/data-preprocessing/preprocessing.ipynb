{
 "cells": [
  {
   "cell_type": "code",
   "execution_count": 2,
   "metadata": {
    "ExecuteTime": {
     "end_time": "2024-07-10T07:35:06.021359600Z",
     "start_time": "2024-07-10T07:35:03.472780300Z"
    }
   },
   "outputs": [],
   "source": [
    "import pandas as pd\n",
    "import numpy as np\n",
    "from sklearn.preprocessing import StandardScaler, Normalizer, LabelEncoder\n",
    "from sklearn.model_selection import train_test_split\n",
    "from sklearn.decomposition import PCA"
   ]
  },
  {
   "cell_type": "markdown",
   "metadata": {},
   "source": [
    "**Read clean data**"
   ]
  },
  {
   "cell_type": "code",
   "execution_count": 3,
   "metadata": {
    "ExecuteTime": {
     "end_time": "2024-07-10T07:35:13.121955100Z",
     "start_time": "2024-07-10T07:35:06.028359800Z"
    }
   },
   "outputs": [],
   "source": [
    "clean = pd.read_csv(\"../data/clean1.csv\")"
   ]
  },
  {
   "cell_type": "code",
   "outputs": [
    {
     "data": {
      "text/plain": "destination_port  flow_duration  total_fwd_packets  total_backward_packets  total_length_of_fwd_packets  total_length_of_bwd_packets  fwd_packet_length_max  fwd_packet_length_min  fwd_packet_length_mean  fwd_packet_length_std  bwd_packet_length_max  bwd_packet_length_min  bwd_packet_length_mean  bwd_packet_length_std  flow_bytes/s  flow_packets/s  flow_iat_mean  flow_iat_std  flow_iat_max  flow_iat_min  fwd_iat_total  fwd_iat_mean  fwd_iat_std   fwd_iat_max  fwd_iat_min  bwd_iat_total  bwd_iat_mean  bwd_iat_std   bwd_iat_max  bwd_iat_min  fwd_psh_flags  bwd_psh_flags  fwd_urg_flags  bwd_urg_flags  fwd_header_length  bwd_header_length  fwd_packets/s  bwd_packets/s  min_packet_length  max_packet_length  packet_length_mean  packet_length_std  packet_length_variance  fin_flag_count  syn_flag_count  rst_flag_count  psh_flag_count  ack_flag_count  urg_flag_count  cwe_flag_count  ece_flag_count  down/up_ratio  average_packet_size  avg_fwd_segment_size  avg_bwd_segment_size  fwd_header_length.1  fwd_avg_bytes/bulk  fwd_avg_packets/bulk  fwd_avg_bulk_rate  bwd_avg_bytes/bulk  bwd_avg_packets/bulk  bwd_avg_bulk_rate  subflow_fwd_packets  subflow_fwd_bytes  subflow_bwd_packets  subflow_bwd_bytes  init_win_bytes_forward  init_win_bytes_backward  act_data_pkt_fwd  min_seg_size_forward  active_mean  active_std  active_max  active_min  idle_mean   idle_std  idle_max  idle_min  label   \n80                3              2                  0                       0                            0                            0                      0                      0.000000                0.000000               0                      0                      0.000000                0.000000               0.000000      6.666667e+05    3.000000e+00   0.000000e+00  3             3             3              3.000000e+00  0.000000e+00  3            3            0              0.00000       0.00000       0            0            0              0              0              0              64                 0                  6.666667e+05   0.000000       0                  0                  0.000000            0.000000           0.000000e+00            0               0               0               0               1               0               0               0               0              0.000000             0.000000              0.000000              64                   0                   0                     0                  0                   0                     0                  2                    0                  0                    0                  251                     -1                       0                 32                    0.0          0.0         0           0           0.0         0.0       0         0         DoS_Hulk    9329\n                                                                                                                                                                                                                                                                                                                                                                                                                                                                                                                                                                                                                                                                                                                                                                                                                                                                                                                                                                                                                                                                                                                                                                                                                                                     274                     -1                       0                 32                    0.0          0.0         0           0           0.0         0.0       0         0         DoS_Hulk    6814\n                  4              2                  0                       0                            0                            0                      0                      0.000000                0.000000               0                      0                      0.000000                0.000000               0.000000      5.000000e+05    4.000000e+00   0.000000e+00  4             4             4              4.000000e+00  0.000000e+00  4            4            0              0.00000       0.00000       0            0            0              0              0              0              64                 0                  5.000000e+05   0.000000       0                  0                  0.000000            0.000000           0.000000e+00            0               0               0               0               1               0               0               0               0              0.000000             0.000000              0.000000              64                   0                   0                     0                  0                   0                     0                  2                    0                  0                    0                  251                     -1                       0                 32                    0.0          0.0         0           0           0.0         0.0       0         0         DoS_Hulk    6613\n                  1              2                  0                       0                            0                            0                      0                      0.000000                0.000000               0                      0                      0.000000                0.000000               0.000000      2.000000e+06    1.000000e+00   0.000000e+00  1             1             1              1.000000e+00  0.000000e+00  1            1            0              0.00000       0.00000       0            0            0              0              0              0              64                 0                  2.000000e+06   0.000000       0                  0                  0.000000            0.000000           0.000000e+00            0               0               0               0               1               0               0               0               0              0.000000             0.000000              0.000000              64                   0                   0                     0                  0                   0                     0                  2                    0                  0                    0                  251                     -1                       0                 32                    0.0          0.0         0           0           0.0         0.0       0         0         DoS_Hulk    5846\n                  4              2                  0                       0                            0                            0                      0                      0.000000                0.000000               0                      0                      0.000000                0.000000               0.000000      5.000000e+05    4.000000e+00   0.000000e+00  4             4             4              4.000000e+00  0.000000e+00  4            4            0              0.00000       0.00000       0            0            0              0              0              0              64                 0                  5.000000e+05   0.000000       0                  0                  0.000000            0.000000           0.000000e+00            0               0               0               0               1               0               0               0               0              0.000000             0.000000              0.000000              64                   0                   0                     0                  0                   0                     0                  2                    0                  0                    0                  274                     -1                       0                 32                    0.0          0.0         0           0           0.0         0.0       0         0         DoS_Hulk    4314\n                                                                                                                                                                                                                                                                                                                                                                                                                                                                                                                                                                                                                                                                                                                                                                                                                                                                                                                                                                                                                                                                                                                                                                                                                                                                                                                                                                                                                                                     ... \n443               685889         10                 8                       952                          3503                         645                    0                      95.200000               199.844829             1602                   0                      437.875000              682.592838             6495.220072   2.624331e+01    4.034641e+04   6.425680e+04  145631        1             542599         6.028878e+04  7.198558e+04  145679       1            540258         77179.71429   101500.90550  249219       4            0              0              0              0              332                264                1.457962e+01   11.663695      0                  1602               234.473684          483.097571         2.333833e+05            0               0               0               1               0               0               0               0               0              247.500000           95.200000             437.875000            332                  0                   0                     0                  0                   0                     0                  10                   952                8                    3503               65535                    245                     5                 32                    0.0          0.0         0           0           0.0         0.0       0         0         BENIGN         1\n                  685874         15                 11                      976                          7408                         469                    0                      65.066667               134.348942             1586                   0                      673.454545              745.299452             12223.819535  3.790784e+01    2.743496e+04   7.573953e+04  370823        1             685874         4.899100e+04  9.834567e+04  370823       1            261949         26194.90000   40477.41568   96207        2            0              0              0              0              492                360                2.186991e+01   16.037931      0                  1586               310.518519          563.521781         3.175568e+05            0               0               0               1               0               0               0               0               0              322.461538           65.066667             673.454545            492                  0                   0                     0                  0                   0                     0                  15                   976                11                   7408               65535                    179                     6                 32                    0.0          0.0         0           0           0.0         0.0       0         0         BENIGN         1\n                  685849         20                 28                      1077                         41311                        517                    0                      53.850000               141.985646             3073                   0                      1475.392857             888.569610             61803.691480  6.998625e+01    1.459253e+04   4.742194e+04  169305        1             685849         3.609732e+04  7.037881e+04  169392       83           508843         18846.03704   53877.39654   169570       1            0              0              0              0              412                572                2.916094e+01   40.825313      0                  3073               865.061224          979.378894         9.591830e+05            0               0               0               1               0               0               0               0               1              883.083333           53.850000             1475.392857           412                  0                   0                     0                  0                   0                     0                  20                   1077               28                   41311              8192                     128                     19                20                    0.0          0.0         0           0           0.0         0.0       0         0         BENIGN         1\n                  685830         7                  8                       976                          4023                         654                    0                      139.428571              240.113069             1448                   0                      502.875000              628.163636             7288.978318   2.187131e+01    4.898786e+04   7.241403e+04  185760        3             498224         8.303733e+04  8.547939e+04  192840       240          500070         71438.57143   111521.50300  256477       3            0              0              0              0              232                264                1.020661e+01   11.664698      0                  1448               312.437500          497.012806         2.470217e+05            0               0               0               1               0               0               0               0               1              333.266667           139.428571            502.875000            232                  0                   0                     0                  0                   0                     0                  7                    976                8                    4023               29200                    132                     3                 32                    0.0          0.0         0           0           0.0         0.0       0         0         BENIGN         1\n80                83868558       9                  7                       359                          11595                        359                    0                      39.888889               119.666667             4344                   0                      1656.428571             1757.579003            142.532557    1.907747e-01    5.591237e+06   2.160000e+07  83700000      1             83700000       1.050000e+07  2.960000e+07  83700000     1            157888         26314.66667   58534.44139   145400       16           0              0              0              0              296                232                1.073108e-01   0.083464       0                  4344               703.176471          1357.016545        1.841494e+06            0               0               0               0               1               0               0               0               0              747.125000           39.888889             1656.428571           296                  0                   0                     0                  0                   0                     0                  9                    359                7                    11595              251                      235                     1                 32                    2002.0       0.0         2002        2002        83700000.0  0.0       83700000  83700000  DoS_Hulk       1\nLength: 2520798, dtype: int64"
     },
     "execution_count": 4,
     "metadata": {},
     "output_type": "execute_result"
    }
   ],
   "source": [
    "clean.value_counts()"
   ],
   "metadata": {
    "collapsed": false,
    "ExecuteTime": {
     "end_time": "2024-07-10T07:35:33.943664900Z",
     "start_time": "2024-07-10T07:35:16.334021100Z"
    }
   },
   "execution_count": 4
  },
  {
   "cell_type": "code",
   "outputs": [
    {
     "data": {
      "text/plain": "   destination_port  flow_duration  total_fwd_packets  total_backward_packets  \\\n0             54865              3                  2                       0   \n1             55054            109                  1                       1   \n2             55055             52                  1                       1   \n3             46236             34                  1                       1   \n4             54863              3                  2                       0   \n\n   total_length_of_fwd_packets  total_length_of_bwd_packets  \\\n0                           12                            0   \n1                            6                            6   \n2                            6                            6   \n3                            6                            6   \n4                           12                            0   \n\n   fwd_packet_length_max  fwd_packet_length_min  fwd_packet_length_mean  \\\n0                      6                      6                     6.0   \n1                      6                      6                     6.0   \n2                      6                      6                     6.0   \n3                      6                      6                     6.0   \n4                      6                      6                     6.0   \n\n   fwd_packet_length_std  ...  min_seg_size_forward  active_mean  active_std  \\\n0                    0.0  ...                    20          0.0         0.0   \n1                    0.0  ...                    20          0.0         0.0   \n2                    0.0  ...                    20          0.0         0.0   \n3                    0.0  ...                    20          0.0         0.0   \n4                    0.0  ...                    20          0.0         0.0   \n\n   active_max  active_min  idle_mean  idle_std  idle_max  idle_min   label  \n0           0           0        0.0       0.0         0         0  BENIGN  \n1           0           0        0.0       0.0         0         0  BENIGN  \n2           0           0        0.0       0.0         0         0  BENIGN  \n3           0           0        0.0       0.0         0         0  BENIGN  \n4           0           0        0.0       0.0         0         0  BENIGN  \n\n[5 rows x 79 columns]",
      "text/html": "<div>\n<style scoped>\n    .dataframe tbody tr th:only-of-type {\n        vertical-align: middle;\n    }\n\n    .dataframe tbody tr th {\n        vertical-align: top;\n    }\n\n    .dataframe thead th {\n        text-align: right;\n    }\n</style>\n<table border=\"1\" class=\"dataframe\">\n  <thead>\n    <tr style=\"text-align: right;\">\n      <th></th>\n      <th>destination_port</th>\n      <th>flow_duration</th>\n      <th>total_fwd_packets</th>\n      <th>total_backward_packets</th>\n      <th>total_length_of_fwd_packets</th>\n      <th>total_length_of_bwd_packets</th>\n      <th>fwd_packet_length_max</th>\n      <th>fwd_packet_length_min</th>\n      <th>fwd_packet_length_mean</th>\n      <th>fwd_packet_length_std</th>\n      <th>...</th>\n      <th>min_seg_size_forward</th>\n      <th>active_mean</th>\n      <th>active_std</th>\n      <th>active_max</th>\n      <th>active_min</th>\n      <th>idle_mean</th>\n      <th>idle_std</th>\n      <th>idle_max</th>\n      <th>idle_min</th>\n      <th>label</th>\n    </tr>\n  </thead>\n  <tbody>\n    <tr>\n      <th>0</th>\n      <td>54865</td>\n      <td>3</td>\n      <td>2</td>\n      <td>0</td>\n      <td>12</td>\n      <td>0</td>\n      <td>6</td>\n      <td>6</td>\n      <td>6.0</td>\n      <td>0.0</td>\n      <td>...</td>\n      <td>20</td>\n      <td>0.0</td>\n      <td>0.0</td>\n      <td>0</td>\n      <td>0</td>\n      <td>0.0</td>\n      <td>0.0</td>\n      <td>0</td>\n      <td>0</td>\n      <td>BENIGN</td>\n    </tr>\n    <tr>\n      <th>1</th>\n      <td>55054</td>\n      <td>109</td>\n      <td>1</td>\n      <td>1</td>\n      <td>6</td>\n      <td>6</td>\n      <td>6</td>\n      <td>6</td>\n      <td>6.0</td>\n      <td>0.0</td>\n      <td>...</td>\n      <td>20</td>\n      <td>0.0</td>\n      <td>0.0</td>\n      <td>0</td>\n      <td>0</td>\n      <td>0.0</td>\n      <td>0.0</td>\n      <td>0</td>\n      <td>0</td>\n      <td>BENIGN</td>\n    </tr>\n    <tr>\n      <th>2</th>\n      <td>55055</td>\n      <td>52</td>\n      <td>1</td>\n      <td>1</td>\n      <td>6</td>\n      <td>6</td>\n      <td>6</td>\n      <td>6</td>\n      <td>6.0</td>\n      <td>0.0</td>\n      <td>...</td>\n      <td>20</td>\n      <td>0.0</td>\n      <td>0.0</td>\n      <td>0</td>\n      <td>0</td>\n      <td>0.0</td>\n      <td>0.0</td>\n      <td>0</td>\n      <td>0</td>\n      <td>BENIGN</td>\n    </tr>\n    <tr>\n      <th>3</th>\n      <td>46236</td>\n      <td>34</td>\n      <td>1</td>\n      <td>1</td>\n      <td>6</td>\n      <td>6</td>\n      <td>6</td>\n      <td>6</td>\n      <td>6.0</td>\n      <td>0.0</td>\n      <td>...</td>\n      <td>20</td>\n      <td>0.0</td>\n      <td>0.0</td>\n      <td>0</td>\n      <td>0</td>\n      <td>0.0</td>\n      <td>0.0</td>\n      <td>0</td>\n      <td>0</td>\n      <td>BENIGN</td>\n    </tr>\n    <tr>\n      <th>4</th>\n      <td>54863</td>\n      <td>3</td>\n      <td>2</td>\n      <td>0</td>\n      <td>12</td>\n      <td>0</td>\n      <td>6</td>\n      <td>6</td>\n      <td>6.0</td>\n      <td>0.0</td>\n      <td>...</td>\n      <td>20</td>\n      <td>0.0</td>\n      <td>0.0</td>\n      <td>0</td>\n      <td>0</td>\n      <td>0.0</td>\n      <td>0.0</td>\n      <td>0</td>\n      <td>0</td>\n      <td>BENIGN</td>\n    </tr>\n  </tbody>\n</table>\n<p>5 rows × 79 columns</p>\n</div>"
     },
     "execution_count": 4,
     "metadata": {},
     "output_type": "execute_result"
    }
   ],
   "source": [
    "clean.head()"
   ],
   "metadata": {
    "collapsed": false,
    "ExecuteTime": {
     "end_time": "2024-05-21T14:19:54.026632900Z",
     "start_time": "2024-05-21T14:19:53.975616200Z"
    }
   },
   "execution_count": 4
  },
  {
   "cell_type": "code",
   "outputs": [
    {
     "data": {
      "text/plain": "Index(['destination_port', 'flow_duration', 'total_fwd_packets',\n       'total_backward_packets', 'total_length_of_fwd_packets',\n       'total_length_of_bwd_packets', 'fwd_packet_length_max',\n       'fwd_packet_length_min', 'fwd_packet_length_mean',\n       'fwd_packet_length_std', 'bwd_packet_length_max',\n       'bwd_packet_length_min', 'bwd_packet_length_mean',\n       'bwd_packet_length_std', 'flow_bytes/s', 'flow_packets/s',\n       'flow_iat_mean', 'flow_iat_std', 'flow_iat_max', 'flow_iat_min',\n       'fwd_iat_total', 'fwd_iat_mean', 'fwd_iat_std', 'fwd_iat_max',\n       'fwd_iat_min', 'bwd_iat_total', 'bwd_iat_mean', 'bwd_iat_std',\n       'bwd_iat_max', 'bwd_iat_min', 'fwd_psh_flags', 'bwd_psh_flags',\n       'fwd_urg_flags', 'bwd_urg_flags', 'fwd_header_length',\n       'bwd_header_length', 'fwd_packets/s', 'bwd_packets/s',\n       'min_packet_length', 'max_packet_length', 'packet_length_mean',\n       'packet_length_std', 'packet_length_variance', 'fin_flag_count',\n       'syn_flag_count', 'rst_flag_count', 'psh_flag_count', 'ack_flag_count',\n       'urg_flag_count', 'cwe_flag_count', 'ece_flag_count', 'down/up_ratio',\n       'average_packet_size', 'avg_fwd_segment_size', 'avg_bwd_segment_size',\n       'fwd_header_length.1', 'fwd_avg_bytes/bulk', 'fwd_avg_packets/bulk',\n       'fwd_avg_bulk_rate', 'bwd_avg_bytes/bulk', 'bwd_avg_packets/bulk',\n       'bwd_avg_bulk_rate', 'subflow_fwd_packets', 'subflow_fwd_bytes',\n       'subflow_bwd_packets', 'subflow_bwd_bytes', 'init_win_bytes_forward',\n       'init_win_bytes_backward', 'act_data_pkt_fwd', 'min_seg_size_forward',\n       'active_mean', 'active_std', 'active_max', 'active_min', 'idle_mean',\n       'idle_std', 'idle_max', 'idle_min', 'label'],\n      dtype='object')"
     },
     "execution_count": 6,
     "metadata": {},
     "output_type": "execute_result"
    }
   ],
   "source": [
    "clean.head()\n",
    "clean.columns"
   ],
   "metadata": {
    "ExecuteTime": {
     "end_time": "2024-05-20T15:44:38.713295500Z",
     "start_time": "2024-05-20T15:44:38.691938600Z"
    }
   },
   "execution_count": 6
  },
  {
   "cell_type": "markdown",
   "metadata": {},
   "source": [
    "**Label Encoding**"
   ]
  },
  {
   "cell_type": "code",
   "execution_count": 7,
   "metadata": {
    "scrolled": true,
    "ExecuteTime": {
     "end_time": "2024-05-09T08:25:00.469778Z",
     "start_time": "2024-05-09T08:25:00.345194600Z"
    }
   },
   "outputs": [
    {
     "data": {
      "text/plain": "{0: 'BENIGN',\n 1: 'Bot',\n 2: 'DDoS',\n 3: 'DoS_GoldenEye',\n 4: 'DoS_Hulk',\n 5: 'DoS_Slowhttptest',\n 6: 'DoS_slowloris',\n 7: 'FTPPatator',\n 8: 'Heartbleed',\n 9: 'Infiltration',\n 10: 'PortScan',\n 11: 'SSHPatator',\n 12: 'Web_Attack_Brute_Force',\n 13: 'Web_Attack_Sql_Injection',\n 14: 'Web_Attack_XSS'}"
     },
     "execution_count": 7,
     "metadata": {},
     "output_type": "execute_result"
    }
   ],
   "source": [
    "le = LabelEncoder()\n",
    "\n",
    "clean['label'] = le.fit_transform(clean['label'])\n",
    "\n",
    "encoded_labels = {num:label for (num, label) in zip(range(15), le.classes_)}\n",
    "\n",
    "encoded_labels"
   ]
  },
  {
   "cell_type": "markdown",
   "metadata": {},
   "source": [
    "**Train Test Split**"
   ]
  },
  {
   "cell_type": "code",
   "execution_count": 8,
   "metadata": {
    "ExecuteTime": {
     "end_time": "2024-05-09T08:25:06.301098300Z",
     "start_time": "2024-05-09T08:25:04.210897800Z"
    }
   },
   "outputs": [],
   "source": [
    "x_train, x_test, y_train, y_test = train_test_split(clean.iloc[:,:-1], \n",
    "                                                    clean['label'], \n",
    "                                                    test_size=1/7.0, \n",
    "                                                    random_state=0)"
   ]
  },
  {
   "cell_type": "code",
   "execution_count": 9,
   "metadata": {
    "ExecuteTime": {
     "end_time": "2024-05-09T08:25:07.666828200Z",
     "start_time": "2024-05-09T08:25:07.652849200Z"
    }
   },
   "outputs": [],
   "source": [
    "# Not needed anymore, remove it from memory.\n",
    "del clean"
   ]
  },
  {
   "cell_type": "markdown",
   "metadata": {},
   "source": [
    "**Data standardization**"
   ]
  },
  {
   "cell_type": "code",
   "execution_count": 10,
   "metadata": {
    "ExecuteTime": {
     "end_time": "2024-05-09T08:25:13.344569500Z",
     "start_time": "2024-05-09T08:25:09.714123400Z"
    }
   },
   "outputs": [],
   "source": [
    "ss = StandardScaler().fit(x_train)\n",
    "\n",
    "x_train = ss.transform(x_train)\n",
    "x_test = ss.transform(x_test)"
   ]
  },
  {
   "cell_type": "markdown",
   "metadata": {},
   "source": [
    "**PCA**"
   ]
  },
  {
   "cell_type": "code",
   "execution_count": 11,
   "metadata": {
    "ExecuteTime": {
     "end_time": "2024-05-09T08:25:39.894572700Z",
     "start_time": "2024-05-09T08:25:19.082708100Z"
    }
   },
   "outputs": [],
   "source": [
    "pca = PCA(.99).fit(x_train)\n",
    "\n",
    "x_train = pca.transform(x_train)\n",
    "x_test = pca.transform(x_test)"
   ]
  },
  {
   "cell_type": "markdown",
   "metadata": {},
   "source": [
    "**Normalizing**"
   ]
  },
  {
   "cell_type": "code",
   "execution_count": 12,
   "metadata": {
    "ExecuteTime": {
     "end_time": "2024-05-09T08:25:45.979473500Z",
     "start_time": "2024-05-09T08:25:45.469585300Z"
    }
   },
   "outputs": [],
   "source": [
    "norm = Normalizer().fit(x_train)\n",
    "\n",
    "x_train = norm.transform(x_train)\n",
    "x_test = norm.transform(x_test)"
   ]
  },
  {
   "cell_type": "markdown",
   "metadata": {},
   "source": [
    "**Reshaping labels**"
   ]
  },
  {
   "cell_type": "code",
   "execution_count": 13,
   "metadata": {
    "ExecuteTime": {
     "end_time": "2024-05-09T08:25:47.531782400Z",
     "start_time": "2024-05-09T08:25:47.527142600Z"
    }
   },
   "outputs": [],
   "source": [
    "y_train = y_train.values.reshape(-1,1)\n",
    "y_test = y_test.values.reshape(-1,1)"
   ]
  },
  {
   "cell_type": "markdown",
   "metadata": {},
   "source": [
    "**Saving**"
   ]
  },
  {
   "cell_type": "markdown",
   "metadata": {},
   "source": [
    "Saving train and test data as numpy ndarrays to be used later in model training and validaiton"
   ]
  },
  {
   "cell_type": "code",
   "execution_count": 15,
   "metadata": {
    "ExecuteTime": {
     "end_time": "2024-05-09T08:26:15.331433500Z",
     "start_time": "2024-05-09T08:26:14.856024200Z"
    }
   },
   "outputs": [],
   "source": [
    "np.save(\"../data/preproc/x_train.npy\", x_train)\n",
    "np.save(\"../data/preproc/y_train.npy\", y_train)\n",
    "np.save(\"../data/preproc/x_test.npy\", x_test)\n",
    "np.save(\"../data/preproc/y_test.npy\", y_test)"
   ]
  },
  {
   "cell_type": "code",
   "outputs": [],
   "source": [],
   "metadata": {
    "collapsed": false
   }
  }
 ],
 "metadata": {
  "kernelspec": {
   "display_name": "Python 3 (ipykernel)",
   "language": "python",
   "name": "python3"
  },
  "language_info": {
   "codemirror_mode": {
    "name": "ipython",
    "version": 3
   },
   "file_extension": ".py",
   "mimetype": "text/x-python",
   "name": "python",
   "nbconvert_exporter": "python",
   "pygments_lexer": "ipython3",
   "version": "3.8.10"
  },
  "toc": {
   "base_numbering": 1,
   "nav_menu": {},
   "number_sections": true,
   "sideBar": true,
   "skip_h1_title": false,
   "title_cell": "Table of Contents",
   "title_sidebar": "Contents",
   "toc_cell": false,
   "toc_position": {},
   "toc_section_display": true,
   "toc_window_display": false
  },
  "varInspector": {
   "cols": {
    "lenName": 16,
    "lenType": 16,
    "lenVar": 40
   },
   "kernels_config": {
    "python": {
     "delete_cmd_postfix": "",
     "delete_cmd_prefix": "del ",
     "library": "var_list.py",
     "varRefreshCmd": "print(var_dic_list())"
    },
    "r": {
     "delete_cmd_postfix": ") ",
     "delete_cmd_prefix": "rm(",
     "library": "var_list.r",
     "varRefreshCmd": "cat(var_dic_list()) "
    }
   },
   "position": {
    "height": "223px",
    "left": "1128px",
    "right": "20px",
    "top": "97px",
    "width": "493px"
   },
   "types_to_exclude": [
    "module",
    "function",
    "builtin_function_or_method",
    "instance",
    "_Feature"
   ],
   "window_display": false
  }
 },
 "nbformat": 4,
 "nbformat_minor": 4
}
