{
 "cells": [
  {
   "cell_type": "markdown",
   "metadata": {},
   "source": [
    "This file contains code for sampling cleaned CIC-IDS-2017 dataset to be used for experiments."
   ]
  },
  {
   "cell_type": "code",
   "execution_count": 1,
   "metadata": {
    "ExecuteTime": {
     "end_time": "2024-06-26T09:39:02.030240100Z",
     "start_time": "2024-06-26T09:38:54.624694900Z"
    }
   },
   "outputs": [
    {
     "name": "stdout",
     "output_type": "stream",
     "text": [
      "WARNING:tensorflow:No training configuration found in the save file, so the model was *not* compiled. Compile it manually.\n",
      "Model: \"Classifier\"\n",
      "_________________________________________________________________\n",
      " Layer (type)                Output Shape              Param #   \n",
      "=================================================================\n",
      " Data (InputLayer)           [(None, 31)]              0         \n",
      "                                                                 \n",
      " Classifier (Sequential)     (None, 15)                71951     \n",
      "                                                                 \n",
      "=================================================================\n",
      "Total params: 71,951\n",
      "Trainable params: 71,951\n",
      "Non-trainable params: 0\n",
      "_________________________________________________________________\n",
      "None\n"
     ]
    },
    {
     "ename": "IndexError",
     "evalue": "invalid index to scalar variable.",
     "output_type": "error",
     "traceback": [
      "\u001B[1;31m---------------------------------------------------------------------------\u001B[0m",
      "\u001B[1;31mIndexError\u001B[0m                                Traceback (most recent call last)",
      "\u001B[1;32m~\\AppData\\Local\\Temp/ipykernel_1144/1857114620.py\u001B[0m in \u001B[0;36m<module>\u001B[1;34m\u001B[0m\n\u001B[0;32m     13\u001B[0m \u001B[0msys\u001B[0m\u001B[1;33m.\u001B[0m\u001B[0mpath\u001B[0m\u001B[1;33m.\u001B[0m\u001B[0mappend\u001B[0m\u001B[1;33m(\u001B[0m\u001B[0mos\u001B[0m\u001B[1;33m.\u001B[0m\u001B[0mpath\u001B[0m\u001B[1;33m.\u001B[0m\u001B[0mdirname\u001B[0m\u001B[1;33m(\u001B[0m\u001B[0mscript_dir\u001B[0m\u001B[1;33m)\u001B[0m\u001B[1;33m)\u001B[0m\u001B[1;33m\u001B[0m\u001B[1;33m\u001B[0m\u001B[0m\n\u001B[0;32m     14\u001B[0m \u001B[1;33m\u001B[0m\u001B[0m\n\u001B[1;32m---> 15\u001B[1;33m \u001B[1;32mfrom\u001B[0m \u001B[0mexperiments\u001B[0m\u001B[1;33m.\u001B[0m\u001B[0mpredictions\u001B[0m \u001B[1;32mimport\u001B[0m \u001B[0mlabels\u001B[0m\u001B[1;33m\u001B[0m\u001B[1;33m\u001B[0m\u001B[0m\n\u001B[0m\u001B[0;32m     16\u001B[0m \u001B[1;33m\u001B[0m\u001B[0m\n\u001B[0;32m     17\u001B[0m \u001B[1;32mimport\u001B[0m \u001B[0mwarnings\u001B[0m\u001B[1;33m\u001B[0m\u001B[1;33m\u001B[0m\u001B[0m\n",
      "\u001B[1;32mD:\\lzj\\work\\code\\python\\machinelearning\\EC-GAN_NIDS-main\\experiments\\predictions.py\u001B[0m in \u001B[0;36m<module>\u001B[1;34m\u001B[0m\n\u001B[0;32m    149\u001B[0m \u001B[0mmodel\u001B[0m \u001B[1;33m=\u001B[0m \u001B[0mtf\u001B[0m\u001B[1;33m.\u001B[0m\u001B[0mkeras\u001B[0m\u001B[1;33m.\u001B[0m\u001B[0mmodels\u001B[0m\u001B[1;33m.\u001B[0m\u001B[0mload_model\u001B[0m\u001B[1;33m(\u001B[0m\u001B[1;34m\"../models/50_classifier_ecgan.h5\"\u001B[0m\u001B[1;33m)\u001B[0m\u001B[1;33m\u001B[0m\u001B[1;33m\u001B[0m\u001B[0m\n\u001B[0;32m    150\u001B[0m \u001B[0mprint\u001B[0m\u001B[1;33m(\u001B[0m\u001B[0mmodel\u001B[0m\u001B[1;33m.\u001B[0m\u001B[0msummary\u001B[0m\u001B[1;33m(\u001B[0m\u001B[1;33m)\u001B[0m\u001B[1;33m)\u001B[0m\u001B[1;33m\u001B[0m\u001B[1;33m\u001B[0m\u001B[0m\n\u001B[1;32m--> 151\u001B[1;33m \u001B[0mprediction\u001B[0m \u001B[1;33m=\u001B[0m \u001B[0mmake_prediction\u001B[0m\u001B[1;33m(\u001B[0m\u001B[0mmodel\u001B[0m\u001B[1;33m,\u001B[0m \u001B[0mtest_data\u001B[0m\u001B[1;33m,\u001B[0m \u001B[0mtest_label\u001B[0m\u001B[1;33m)\u001B[0m\u001B[1;33m\u001B[0m\u001B[1;33m\u001B[0m\u001B[0m\n\u001B[0m\u001B[0;32m    152\u001B[0m \u001B[0mprint\u001B[0m\u001B[1;33m(\u001B[0m\u001B[0mprediction\u001B[0m\u001B[1;33m)\u001B[0m\u001B[1;33m\u001B[0m\u001B[1;33m\u001B[0m\u001B[0m\n",
      "\u001B[1;32mD:\\lzj\\work\\code\\python\\machinelearning\\EC-GAN_NIDS-main\\experiments\\predictions.py\u001B[0m in \u001B[0;36mmake_prediction\u001B[1;34m(model, test_data, test_lbl)\u001B[0m\n\u001B[0;32m     36\u001B[0m     \u001B[0mprediction\u001B[0m \u001B[1;33m=\u001B[0m \u001B[0mmodel\u001B[0m\u001B[1;33m.\u001B[0m\u001B[0mpredict\u001B[0m\u001B[1;33m(\u001B[0m\u001B[0mtest_data\u001B[0m\u001B[1;33m)\u001B[0m\u001B[1;33m\u001B[0m\u001B[1;33m\u001B[0m\u001B[0m\n\u001B[0;32m     37\u001B[0m \u001B[1;33m\u001B[0m\u001B[0m\n\u001B[1;32m---> 38\u001B[1;33m     prediction = [\n\u001B[0m\u001B[0;32m     39\u001B[0m \u001B[1;33m\u001B[0m\u001B[0m\n\u001B[0;32m     40\u001B[0m         (labels[int(test_lbl[0][i])], labels[np.where(\n",
      "\u001B[1;32mD:\\lzj\\work\\code\\python\\machinelearning\\EC-GAN_NIDS-main\\experiments\\predictions.py\u001B[0m in \u001B[0;36m<listcomp>\u001B[1;34m(.0)\u001B[0m\n\u001B[0;32m     38\u001B[0m     prediction = [\n\u001B[0;32m     39\u001B[0m \u001B[1;33m\u001B[0m\u001B[0m\n\u001B[1;32m---> 40\u001B[1;33m         (labels[int(test_lbl[0][i])], labels[np.where(\n\u001B[0m\u001B[0;32m     41\u001B[0m             max_ == np.amax(max_))[0][0]], np.amax(max_))\n\u001B[0;32m     42\u001B[0m \u001B[1;33m\u001B[0m\u001B[0m\n",
      "\u001B[1;31mIndexError\u001B[0m: invalid index to scalar variable."
     ]
    }
   ],
   "source": [
    "import sys\n",
    "import os\n",
    "import joblib\n",
    "import pandas as pd\n",
    "import numpy as np\n",
    "from sklearn.preprocessing import StandardScaler, Normalizer, LabelEncoder\n",
    "from sklearn.model_selection import train_test_split\n",
    "from sklearn.decomposition import PCA\n",
    "from sklearn.utils import shuffle, resample\n",
    "from sklearn.utils.random import sample_without_replacement\n",
    "\n",
    "script_dir = os.path.dirname(os.path.abspath(\"experiments\"))\n",
    "sys.path.append(os.path.dirname(script_dir))\n",
    "\n",
    "from experiments.predictions import labels\n",
    "\n",
    "import warnings\n",
    "warnings.filterwarnings(\"ignore\")"
   ]
  },
  {
   "cell_type": "code",
   "execution_count": 2,
   "metadata": {
    "ExecuteTime": {
     "end_time": "2024-06-26T09:39:11.208151200Z",
     "start_time": "2024-06-26T09:39:04.541709500Z"
    }
   },
   "outputs": [],
   "source": [
    "clean = pd.read_csv(\"../data/clean1.csv\")"
   ]
  },
  {
   "cell_type": "code",
   "outputs": [
    {
     "data": {
      "text/plain": "BENIGN                      2271320\nDoS_Hulk                     230124\nPortScan                     158804\nDDoS                         128025\nDoS_GoldenEye                 10293\nFTPPatator                     7935\nSSHPatator                     5897\nDoS_slowloris                  5796\nDoS_Slowhttptest               5499\nBot                            1956\nWeb_Attack_Brute_Force         1507\nWeb_Attack_XSS                  652\nInfiltration                     36\nWeb_Attack_Sql_Injection         21\nHeartbleed                       11\nName: label, dtype: int64"
     },
     "execution_count": 3,
     "metadata": {},
     "output_type": "execute_result"
    }
   ],
   "source": [
    "clean.label.value_counts()"
   ],
   "metadata": {
    "collapsed": false,
    "ExecuteTime": {
     "end_time": "2024-06-26T09:39:16.174534700Z",
     "start_time": "2024-06-26T09:39:16.104767600Z"
    }
   },
   "execution_count": 3
  },
  {
   "cell_type": "markdown",
   "metadata": {},
   "source": [
    "`preproc_data` function implements data preprocessing steps from `preprocessing.ipynb` file - but as a single function. "
   ]
  },
  {
   "cell_type": "code",
   "execution_count": 9,
   "metadata": {
    "ExecuteTime": {
     "end_time": "2024-06-26T12:23:44.202522900Z",
     "start_time": "2024-06-26T12:23:44.180596300Z"
    }
   },
   "outputs": [],
   "source": [
    "# preproc_data function implements data preprocessing steps from preprocessing.ipynb file - but as a single function.\n",
    "def preproc_data(dataset, train_sample: float, pca_dim=31):\n",
    "    \n",
    "    # Label encode\n",
    "    le = LabelEncoder()\n",
    "    dataset['label'] = le.fit_transform(dataset['label'])\n",
    "    \n",
    "    print(\"Original Label -> Encoded Label:\")\n",
    "    for label, encoded_label in zip(le.classes_, le.transform(le.classes_)):\n",
    "        print(f\"{label} -> {encoded_label}\")\n",
    "    \n",
    "    # Train test split\n",
    "    x_train, x_test, y_train, y_test = train_test_split(dataset.iloc[:,:-1], \n",
    "                                                        dataset['label'], \n",
    "                                                        test_size=1-train_sample, \n",
    "                                                        random_state=0)\n",
    "    # Standard scaling\n",
    "    ss = StandardScaler().fit(x_train)\n",
    "    joblib.dump(ss, \"ss.pkl\")\n",
    "\n",
    "    x_train = ss.transform(x_train)\n",
    "    x_test = ss.transform(x_test)\n",
    "    \n",
    "    # PCA\n",
    "    pca = PCA(n_components=31).fit(x_train)\n",
    "    joblib.dump(pca, \"pca.pkl\")\n",
    "    x_train = pca.transform(x_train)\n",
    "    x_test = pca.transform(x_test)\n",
    "    \n",
    "    # Normalization\n",
    "    norm = Normalizer().fit(x_train)\n",
    "    joblib.dump(norm, \"norm.pkl\")\n",
    "    x_train = norm.transform(x_train)\n",
    "    x_test = norm.transform(x_test)\n",
    "    \n",
    "    # Reshaping \n",
    "    y_train = y_train.values.reshape(-1,1)\n",
    "    y_test = y_test.values.reshape(-1,1)\n",
    "    \n",
    "    return x_train, x_test, y_train, y_test"
   ]
  },
  {
   "cell_type": "code",
   "execution_count": 4,
   "metadata": {
    "scrolled": true,
    "ExecuteTime": {
     "end_time": "2024-06-19T01:39:11.710346500Z",
     "start_time": "2024-06-19T01:39:11.551347200Z"
    }
   },
   "outputs": [
    {
     "data": {
      "text/plain": "['Bot',\n 'Web_Attack_Brute_Force',\n 'Web_Attack_XSS',\n 'Infiltration',\n 'Web_Attack_Sql_Injection',\n 'Heartbleed']"
     },
     "execution_count": 4,
     "metadata": {},
     "output_type": "execute_result"
    }
   ],
   "source": [
    "low_member_thresh = 2000\n",
    "\n",
    "low_member_labels = list(clean['label'].value_counts()[clean['label'].value_counts() < low_member_thresh].index)\n",
    "low_member_labels"
   ]
  },
  {
   "cell_type": "markdown",
   "metadata": {},
   "source": [
    "### 10%"
   ]
  },
  {
   "cell_type": "markdown",
   "metadata": {},
   "source": [
    "This dataset sample contains only 10% of each class members except those which contain <2000 intances. They are taken in their entirety."
   ]
  },
  {
   "cell_type": "code",
   "execution_count": 5,
   "metadata": {
    "scrolled": true
   },
   "outputs": [],
   "source": [
    "low_member_data = clean[clean.label.str.contains(\"|\".join(low_member_labels))]"
   ]
  },
  {
   "cell_type": "code",
   "execution_count": 6,
   "metadata": {},
   "outputs": [],
   "source": [
    "data = clean[~clean.label.str.contains(\"|\".join(low_member_labels))].sample(frac=.1, random_state=1)"
   ]
  },
  {
   "cell_type": "code",
   "execution_count": 7,
   "metadata": {},
   "outputs": [],
   "source": [
    "data = data.append(low_member_data, ignore_index=True)"
   ]
  },
  {
   "cell_type": "markdown",
   "source": [],
   "metadata": {
    "collapsed": false
   }
  },
  {
   "cell_type": "markdown",
   "source": [],
   "metadata": {
    "collapsed": false
   }
  },
  {
   "cell_type": "code",
   "execution_count": 8,
   "metadata": {},
   "outputs": [],
   "source": [
    "x_train, x_test, y_train, y_test = preproc_data(data, train_sample=0.75, pca_dim=31)"
   ]
  },
  {
   "cell_type": "code",
   "execution_count": 9,
   "metadata": {},
   "outputs": [],
   "source": [
    "np.save(\"data/preserve10/x_train.npy\", x_train)\n",
    "np.save(\"data/preserve10/y_train.npy\", y_train)\n",
    "np.save(\"data/preserve10/x_test.npy\", x_test)\n",
    "np.save(\"data/preserve10/y_test.npy\", y_test)"
   ]
  },
  {
   "cell_type": "markdown",
   "metadata": {},
   "source": [
    "### 25%"
   ]
  },
  {
   "cell_type": "code",
   "execution_count": 12,
   "metadata": {
    "scrolled": false
   },
   "outputs": [],
   "source": [
    "low_member_data = clean[clean.label.str.contains(\"|\".join(low_member_labels))]"
   ]
  },
  {
   "cell_type": "code",
   "execution_count": 13,
   "metadata": {},
   "outputs": [],
   "source": [
    "data = clean[~clean.label.str.contains(\"|\".join(low_member_labels))].sample(frac=.25, random_state=1)"
   ]
  },
  {
   "cell_type": "code",
   "execution_count": 14,
   "metadata": {},
   "outputs": [],
   "source": [
    "data = data.append(low_member_data, ignore_index=True)"
   ]
  },
  {
   "cell_type": "code",
   "execution_count": 15,
   "metadata": {},
   "outputs": [],
   "source": [
    "x_train, x_test, y_train, y_test = preproc_data(data, train_sample=0.75, pca_dim=31)"
   ]
  },
  {
   "cell_type": "code",
   "execution_count": 16,
   "metadata": {},
   "outputs": [],
   "source": [
    "np.save(\"data/preserve25/x_train.npy\", x_train)\n",
    "np.save(\"data/preserve25/y_train.npy\", y_train)\n",
    "np.save(\"data/preserve25/x_test.npy\", x_test)\n",
    "np.save(\"data/preserve25/y_test.npy\", y_test)"
   ]
  },
  {
   "cell_type": "markdown",
   "metadata": {},
   "source": [
    "### 50%"
   ]
  },
  {
   "cell_type": "code",
   "execution_count": 8,
   "metadata": {
    "scrolled": false,
    "ExecuteTime": {
     "end_time": "2024-05-10T10:45:47.475054Z",
     "start_time": "2024-05-10T10:45:46.945241Z"
    }
   },
   "outputs": [],
   "source": [
    "low_member_data = clean[clean.label.str.contains(\"|\".join(low_member_labels))]"
   ]
  },
  {
   "cell_type": "code",
   "execution_count": 9,
   "metadata": {
    "ExecuteTime": {
     "end_time": "2024-05-10T10:45:50.389305800Z",
     "start_time": "2024-05-10T10:45:48.268913900Z"
    }
   },
   "outputs": [],
   "source": [
    "data = clean[~clean.label.str.contains(\"|\".join(low_member_labels))].sample(frac=.5, random_state=1)"
   ]
  },
  {
   "cell_type": "code",
   "execution_count": 10,
   "metadata": {
    "ExecuteTime": {
     "end_time": "2024-05-10T10:45:51.626947900Z",
     "start_time": "2024-05-10T10:45:51.138961Z"
    }
   },
   "outputs": [],
   "source": [
    "data = data.append(low_member_data, ignore_index=True)"
   ]
  },
  {
   "cell_type": "code",
   "execution_count": 11,
   "metadata": {
    "ExecuteTime": {
     "end_time": "2024-05-10T10:46:07.130848400Z",
     "start_time": "2024-05-10T10:45:53.346261700Z"
    }
   },
   "outputs": [],
   "source": [
    "x_train, x_test, y_train, y_test = preproc_data(data, train_sample=0.75, pca_dim=31)"
   ]
  },
  {
   "cell_type": "code",
   "execution_count": 13,
   "metadata": {
    "ExecuteTime": {
     "end_time": "2024-05-10T10:46:41.649043200Z",
     "start_time": "2024-05-10T10:46:41.447716600Z"
    }
   },
   "outputs": [],
   "source": [
    "np.save(\"../data/preserve50/x_train.npy\", x_train)\n",
    "np.save(\"../data/preserve50/y_train.npy\", y_train)\n",
    "np.save(\"../data/preserve50/x_test.npy\", x_test)\n",
    "np.save(\"../data/preserve50/y_test.npy\", y_test)"
   ]
  },
  {
   "cell_type": "markdown",
   "metadata": {},
   "source": [
    "### 100%"
   ]
  },
  {
   "cell_type": "code",
   "execution_count": 24,
   "metadata": {
    "ExecuteTime": {
     "end_time": "2024-06-19T07:41:04.131537100Z",
     "start_time": "2024-06-19T07:40:12.591813700Z"
    }
   },
   "outputs": [],
   "source": [
    "x_train, x_test, y_train, y_test = preproc_data(clean, train_sample=0.75, pca_dim=31)"
   ]
  },
  {
   "cell_type": "code",
   "execution_count": 6,
   "metadata": {},
   "outputs": [],
   "source": [
    "np.save(\"data/preserve100/x_train.npy\", x_train)\n",
    "np.save(\"data/preserve100/y_train.npy\", y_train)\n",
    "np.save(\"data/preserve100/x_test.npy\", x_test)\n",
    "np.save(\"data/preserve100/y_test.npy\", y_test)"
   ]
  },
  {
   "cell_type": "markdown",
   "source": [
    "# PCA 1"
   ],
   "metadata": {
    "collapsed": false
   }
  },
  {
   "cell_type": "code",
   "outputs": [],
   "source": [
    "def preproc_data_1(dataset, train_sample: float, pca_dim=1):\n",
    "    \n",
    "    # Label encode\n",
    "    le = LabelEncoder()\n",
    "    dataset['label'] = le.fit_transform(dataset['label'])\n",
    "    \n",
    "    # Train test split\n",
    "    x_train, x_test, y_train, y_test = train_test_split(dataset.iloc[:,:-1], \n",
    "                                                        dataset['label'], \n",
    "                                                        test_size=1-train_sample, \n",
    "                                                        random_state=0)\n",
    "    # Standard scaling\n",
    "    ss = StandardScaler().fit(x_train)\n",
    "\n",
    "    x_train = ss.transform(x_train)\n",
    "    x_test = ss.transform(x_test)\n",
    "    \n",
    "    # PCA\n",
    "    pca = PCA(n_components=1).fit(x_train)\n",
    "\n",
    "    x_train = pca.transform(x_train)\n",
    "    x_test = pca.transform(x_test)\n",
    "    \n",
    "    # Normalization\n",
    "    norm = Normalizer().fit(x_train)\n",
    "\n",
    "    x_train = norm.transform(x_train)\n",
    "    x_test = norm.transform(x_test)\n",
    "    \n",
    "    # Reshaping \n",
    "    y_train = y_train.values.reshape(-1,1)\n",
    "    y_test = y_test.values.reshape(-1,1)\n",
    "    \n",
    "    return x_train, x_test, y_train, y_test"
   ],
   "metadata": {
    "collapsed": false,
    "ExecuteTime": {
     "end_time": "2024-06-19T05:55:18.870563400Z",
     "start_time": "2024-06-19T05:55:18.856562200Z"
    }
   },
   "execution_count": 14
  },
  {
   "cell_type": "markdown",
   "source": [],
   "metadata": {
    "collapsed": false
   }
  },
  {
   "cell_type": "code",
   "outputs": [],
   "source": [
    "x_train, x_test, y_train, y_test = preproc_data_1(clean, train_sample=0.75, pca_dim=1)\n"
   ],
   "metadata": {
    "collapsed": false,
    "ExecuteTime": {
     "end_time": "2024-06-19T05:55:51.450892700Z",
     "start_time": "2024-06-19T05:55:31.282108400Z"
    }
   },
   "execution_count": 15
  },
  {
   "cell_type": "code",
   "outputs": [],
   "source": [
    "np.save(\"../data/preserve100-pca1/x_train.npy\", x_train)\n",
    "np.save(\"../data/preserve100-pca1/y_train.npy\", y_train)\n",
    "np.save(\"../data/preserve100-pca1/x_test.npy\", x_test)\n",
    "np.save(\"../data/preserve100-pca1/y_test.npy\", y_test)"
   ],
   "metadata": {
    "collapsed": false,
    "ExecuteTime": {
     "end_time": "2024-06-19T05:58:03.549230900Z",
     "start_time": "2024-06-19T05:58:03.506224200Z"
    }
   },
   "execution_count": 16
  },
  {
   "cell_type": "code",
   "outputs": [
    {
     "data": {
      "text/plain": "1"
     },
     "execution_count": 17,
     "metadata": {},
     "output_type": "execute_result"
    }
   ],
   "source": [
    "x_train = np.load(\"../data/preserve100-pca1/x_train.npy\")\n",
    "x_train.shape[1]"
   ],
   "metadata": {
    "collapsed": false,
    "ExecuteTime": {
     "end_time": "2024-06-19T05:58:04.947003100Z",
     "start_time": "2024-06-19T05:58:04.921999800Z"
    }
   },
   "execution_count": 17
  },
  {
   "cell_type": "code",
   "outputs": [],
   "source": [],
   "metadata": {
    "collapsed": false
   }
  },
  {
   "cell_type": "markdown",
   "source": [
    "# 剔除 PortScan DDos"
   ],
   "metadata": {
    "collapsed": false
   }
  },
  {
   "cell_type": "code",
   "outputs": [
    {
     "name": "stdout",
     "output_type": "stream",
     "text": [
      "BENIGN                      2271320\n",
      "DoS_Hulk                     230124\n",
      "PortScan                     158804\n",
      "DDoS                         128025\n",
      "DoS_GoldenEye                 10293\n",
      "FTPPatator                     7935\n",
      "SSHPatator                     5897\n",
      "DoS_slowloris                  5796\n",
      "DoS_Slowhttptest               5499\n",
      "Bot                            1956\n",
      "Web_Attack_Brute_Force         1507\n",
      "Web_Attack_XSS                  652\n",
      "Infiltration                     36\n",
      "Web_Attack_Sql_Injection         21\n",
      "Heartbleed                       11\n",
      "Name: label, dtype: int64\n",
      "=========================\n",
      "BENIGN                      2271320\n",
      "DoS_Hulk                     230124\n",
      "DoS_GoldenEye                 10293\n",
      "FTPPatator                     7935\n",
      "SSHPatator                     5897\n",
      "DoS_slowloris                  5796\n",
      "DoS_Slowhttptest               5499\n",
      "Bot                            1956\n",
      "Web_Attack_Brute_Force         1507\n",
      "Web_Attack_XSS                  652\n",
      "Infiltration                     36\n",
      "Web_Attack_Sql_Injection         21\n",
      "Heartbleed                       11\n",
      "Name: label, dtype: int64\n"
     ]
    },
    {
     "data": {
      "text/plain": "   destination_port  flow_duration  total_fwd_packets  total_backward_packets  \\\n0             54865              3                  2                       0   \n1             55054            109                  1                       1   \n2             55055             52                  1                       1   \n3             46236             34                  1                       1   \n4             54863              3                  2                       0   \n\n   total_length_of_fwd_packets  total_length_of_bwd_packets  \\\n0                           12                            0   \n1                            6                            6   \n2                            6                            6   \n3                            6                            6   \n4                           12                            0   \n\n   fwd_packet_length_max  fwd_packet_length_min  fwd_packet_length_mean  \\\n0                      6                      6                     6.0   \n1                      6                      6                     6.0   \n2                      6                      6                     6.0   \n3                      6                      6                     6.0   \n4                      6                      6                     6.0   \n\n   fwd_packet_length_std  ...  min_seg_size_forward  active_mean  active_std  \\\n0                    0.0  ...                    20          0.0         0.0   \n1                    0.0  ...                    20          0.0         0.0   \n2                    0.0  ...                    20          0.0         0.0   \n3                    0.0  ...                    20          0.0         0.0   \n4                    0.0  ...                    20          0.0         0.0   \n\n   active_max  active_min  idle_mean  idle_std  idle_max  idle_min   label  \n0           0           0        0.0       0.0         0         0  BENIGN  \n1           0           0        0.0       0.0         0         0  BENIGN  \n2           0           0        0.0       0.0         0         0  BENIGN  \n3           0           0        0.0       0.0         0         0  BENIGN  \n4           0           0        0.0       0.0         0         0  BENIGN  \n\n[5 rows x 79 columns]",
      "text/html": "<div>\n<style scoped>\n    .dataframe tbody tr th:only-of-type {\n        vertical-align: middle;\n    }\n\n    .dataframe tbody tr th {\n        vertical-align: top;\n    }\n\n    .dataframe thead th {\n        text-align: right;\n    }\n</style>\n<table border=\"1\" class=\"dataframe\">\n  <thead>\n    <tr style=\"text-align: right;\">\n      <th></th>\n      <th>destination_port</th>\n      <th>flow_duration</th>\n      <th>total_fwd_packets</th>\n      <th>total_backward_packets</th>\n      <th>total_length_of_fwd_packets</th>\n      <th>total_length_of_bwd_packets</th>\n      <th>fwd_packet_length_max</th>\n      <th>fwd_packet_length_min</th>\n      <th>fwd_packet_length_mean</th>\n      <th>fwd_packet_length_std</th>\n      <th>...</th>\n      <th>min_seg_size_forward</th>\n      <th>active_mean</th>\n      <th>active_std</th>\n      <th>active_max</th>\n      <th>active_min</th>\n      <th>idle_mean</th>\n      <th>idle_std</th>\n      <th>idle_max</th>\n      <th>idle_min</th>\n      <th>label</th>\n    </tr>\n  </thead>\n  <tbody>\n    <tr>\n      <th>0</th>\n      <td>54865</td>\n      <td>3</td>\n      <td>2</td>\n      <td>0</td>\n      <td>12</td>\n      <td>0</td>\n      <td>6</td>\n      <td>6</td>\n      <td>6.0</td>\n      <td>0.0</td>\n      <td>...</td>\n      <td>20</td>\n      <td>0.0</td>\n      <td>0.0</td>\n      <td>0</td>\n      <td>0</td>\n      <td>0.0</td>\n      <td>0.0</td>\n      <td>0</td>\n      <td>0</td>\n      <td>BENIGN</td>\n    </tr>\n    <tr>\n      <th>1</th>\n      <td>55054</td>\n      <td>109</td>\n      <td>1</td>\n      <td>1</td>\n      <td>6</td>\n      <td>6</td>\n      <td>6</td>\n      <td>6</td>\n      <td>6.0</td>\n      <td>0.0</td>\n      <td>...</td>\n      <td>20</td>\n      <td>0.0</td>\n      <td>0.0</td>\n      <td>0</td>\n      <td>0</td>\n      <td>0.0</td>\n      <td>0.0</td>\n      <td>0</td>\n      <td>0</td>\n      <td>BENIGN</td>\n    </tr>\n    <tr>\n      <th>2</th>\n      <td>55055</td>\n      <td>52</td>\n      <td>1</td>\n      <td>1</td>\n      <td>6</td>\n      <td>6</td>\n      <td>6</td>\n      <td>6</td>\n      <td>6.0</td>\n      <td>0.0</td>\n      <td>...</td>\n      <td>20</td>\n      <td>0.0</td>\n      <td>0.0</td>\n      <td>0</td>\n      <td>0</td>\n      <td>0.0</td>\n      <td>0.0</td>\n      <td>0</td>\n      <td>0</td>\n      <td>BENIGN</td>\n    </tr>\n    <tr>\n      <th>3</th>\n      <td>46236</td>\n      <td>34</td>\n      <td>1</td>\n      <td>1</td>\n      <td>6</td>\n      <td>6</td>\n      <td>6</td>\n      <td>6</td>\n      <td>6.0</td>\n      <td>0.0</td>\n      <td>...</td>\n      <td>20</td>\n      <td>0.0</td>\n      <td>0.0</td>\n      <td>0</td>\n      <td>0</td>\n      <td>0.0</td>\n      <td>0.0</td>\n      <td>0</td>\n      <td>0</td>\n      <td>BENIGN</td>\n    </tr>\n    <tr>\n      <th>4</th>\n      <td>54863</td>\n      <td>3</td>\n      <td>2</td>\n      <td>0</td>\n      <td>12</td>\n      <td>0</td>\n      <td>6</td>\n      <td>6</td>\n      <td>6.0</td>\n      <td>0.0</td>\n      <td>...</td>\n      <td>20</td>\n      <td>0.0</td>\n      <td>0.0</td>\n      <td>0</td>\n      <td>0</td>\n      <td>0.0</td>\n      <td>0.0</td>\n      <td>0</td>\n      <td>0</td>\n      <td>BENIGN</td>\n    </tr>\n  </tbody>\n</table>\n<p>5 rows × 79 columns</p>\n</div>"
     },
     "execution_count": 13,
     "metadata": {},
     "output_type": "execute_result"
    }
   ],
   "source": [
    "data = clean.copy()\n",
    "print(data.label.value_counts())\n",
    "data = data[~data['label'].isin(['PortScan'])]\n",
    "data = data[~data['label'].isin(['DDoS'])]\n",
    "print(\"=========================\")\n",
    "print(data.label.value_counts())\n",
    "data.head()"
   ],
   "metadata": {
    "collapsed": false,
    "ExecuteTime": {
     "end_time": "2024-06-26T12:26:20.050877Z",
     "start_time": "2024-06-26T12:26:18.145155100Z"
    }
   },
   "execution_count": 13
  },
  {
   "cell_type": "code",
   "outputs": [
    {
     "name": "stdout",
     "output_type": "stream",
     "text": [
      "Original Label -> Encoded Label:\n",
      "BENIGN -> 0\n",
      "Bot -> 1\n",
      "DDoS -> 2\n",
      "DoS_GoldenEye -> 3\n",
      "DoS_Hulk -> 4\n",
      "DoS_Slowhttptest -> 5\n",
      "DoS_slowloris -> 6\n",
      "FTPPatator -> 7\n",
      "Heartbleed -> 8\n",
      "Infiltration -> 9\n",
      "PortScan -> 10\n",
      "SSHPatator -> 11\n",
      "Web_Attack_Brute_Force -> 12\n",
      "Web_Attack_Sql_Injection -> 13\n",
      "Web_Attack_XSS -> 14\n"
     ]
    }
   ],
   "source": [
    "dataset = clean.copy()\n",
    "# 创建 LabelEncoder 对象并进行编码\n",
    "le = LabelEncoder()\n",
    "dataset['encoded_label'] = le.fit_transform(dataset['label'])\n",
    "\n",
    "# 打印每一个标签对应的编码值\n",
    "print(\"Original Label -> Encoded Label:\")\n",
    "for label, encoded_label in zip(le.classes_, le.transform(le.classes_)):\n",
    "    print(f\"{label} -> {encoded_label}\")"
   ],
   "metadata": {
    "collapsed": false,
    "ExecuteTime": {
     "end_time": "2024-06-26T12:24:42.313734800Z",
     "start_time": "2024-06-26T12:24:40.938962700Z"
    }
   },
   "execution_count": 11
  },
  {
   "cell_type": "code",
   "outputs": [
    {
     "name": "stdout",
     "output_type": "stream",
     "text": [
      "Original Label -> Encoded Label:\n",
      "BENIGN -> 0\n",
      "Bot -> 1\n",
      "DoS_GoldenEye -> 2\n",
      "DoS_Hulk -> 3\n",
      "DoS_Slowhttptest -> 4\n",
      "DoS_slowloris -> 5\n",
      "FTPPatator -> 6\n",
      "Heartbleed -> 7\n",
      "Infiltration -> 8\n",
      "SSHPatator -> 9\n",
      "Web_Attack_Brute_Force -> 10\n",
      "Web_Attack_Sql_Injection -> 11\n",
      "Web_Attack_XSS -> 12\n"
     ]
    }
   ],
   "source": [
    "dataset = data.copy()\n",
    "# 创建 LabelEncoder 对象并进行编码\n",
    "le = LabelEncoder()\n",
    "dataset['encoded_label'] = le.fit_transform(dataset['label'])\n",
    "\n",
    "# 打印每一个标签对应的编码值\n",
    "print(\"Original Label -> Encoded Label:\")\n",
    "for label, encoded_label in zip(le.classes_, le.transform(le.classes_)):\n",
    "    print(f\"{label} -> {encoded_label}\")"
   ],
   "metadata": {
    "collapsed": false,
    "ExecuteTime": {
     "end_time": "2024-06-26T12:26:26.403232600Z",
     "start_time": "2024-06-26T12:26:25.838490600Z"
    }
   },
   "execution_count": 14
  },
  {
   "cell_type": "code",
   "outputs": [
    {
     "name": "stdout",
     "output_type": "stream",
     "text": [
      "Original Label -> Encoded Label:\n",
      "0 -> 0\n",
      "1 -> 1\n",
      "2 -> 2\n",
      "3 -> 3\n",
      "4 -> 4\n",
      "5 -> 5\n",
      "6 -> 6\n",
      "7 -> 7\n",
      "8 -> 8\n",
      "9 -> 9\n",
      "10 -> 10\n",
      "11 -> 11\n",
      "12 -> 12\n"
     ]
    },
    {
     "ename": "KeyboardInterrupt",
     "evalue": "",
     "output_type": "error",
     "traceback": [
      "\u001B[1;31m---------------------------------------------------------------------------\u001B[0m",
      "\u001B[1;31mKeyboardInterrupt\u001B[0m                         Traceback (most recent call last)",
      "\u001B[1;32m~\\AppData\\Local\\Temp/ipykernel_1144/1449326299.py\u001B[0m in \u001B[0;36m<module>\u001B[1;34m\u001B[0m\n\u001B[1;32m----> 1\u001B[1;33m \u001B[0mx_train\u001B[0m\u001B[1;33m,\u001B[0m \u001B[0mx_test\u001B[0m\u001B[1;33m,\u001B[0m \u001B[0my_train\u001B[0m\u001B[1;33m,\u001B[0m \u001B[0my_test\u001B[0m \u001B[1;33m=\u001B[0m \u001B[0mpreproc_data\u001B[0m\u001B[1;33m(\u001B[0m\u001B[0mdata\u001B[0m\u001B[1;33m,\u001B[0m \u001B[0mtrain_sample\u001B[0m\u001B[1;33m=\u001B[0m\u001B[1;36m0.75\u001B[0m\u001B[1;33m,\u001B[0m \u001B[0mpca_dim\u001B[0m\u001B[1;33m=\u001B[0m\u001B[1;36m31\u001B[0m\u001B[1;33m)\u001B[0m\u001B[1;33m\u001B[0m\u001B[1;33m\u001B[0m\u001B[0m\n\u001B[0m\u001B[0;32m      2\u001B[0m \u001B[1;33m\u001B[0m\u001B[0m\n",
      "\u001B[1;32m~\\AppData\\Local\\Temp/ipykernel_1144/1346334364.py\u001B[0m in \u001B[0;36mpreproc_data\u001B[1;34m(dataset, train_sample, pca_dim)\u001B[0m\n\u001B[0;32m     22\u001B[0m \u001B[1;33m\u001B[0m\u001B[0m\n\u001B[0;32m     23\u001B[0m     \u001B[1;31m# PCA\u001B[0m\u001B[1;33m\u001B[0m\u001B[1;33m\u001B[0m\u001B[0m\n\u001B[1;32m---> 24\u001B[1;33m     \u001B[0mpca\u001B[0m \u001B[1;33m=\u001B[0m \u001B[0mPCA\u001B[0m\u001B[1;33m(\u001B[0m\u001B[0mn_components\u001B[0m\u001B[1;33m=\u001B[0m\u001B[1;36m31\u001B[0m\u001B[1;33m)\u001B[0m\u001B[1;33m.\u001B[0m\u001B[0mfit\u001B[0m\u001B[1;33m(\u001B[0m\u001B[0mx_train\u001B[0m\u001B[1;33m)\u001B[0m\u001B[1;33m\u001B[0m\u001B[1;33m\u001B[0m\u001B[0m\n\u001B[0m\u001B[0;32m     25\u001B[0m     \u001B[0mjoblib\u001B[0m\u001B[1;33m.\u001B[0m\u001B[0mdump\u001B[0m\u001B[1;33m(\u001B[0m\u001B[0mpca\u001B[0m\u001B[1;33m,\u001B[0m \u001B[1;34m\"pca.pkl\"\u001B[0m\u001B[1;33m)\u001B[0m\u001B[1;33m\u001B[0m\u001B[1;33m\u001B[0m\u001B[0m\n\u001B[0;32m     26\u001B[0m     \u001B[0mx_train\u001B[0m \u001B[1;33m=\u001B[0m \u001B[0mpca\u001B[0m\u001B[1;33m.\u001B[0m\u001B[0mtransform\u001B[0m\u001B[1;33m(\u001B[0m\u001B[0mx_train\u001B[0m\u001B[1;33m)\u001B[0m\u001B[1;33m\u001B[0m\u001B[1;33m\u001B[0m\u001B[0m\n",
      "\u001B[1;32mD:\\lzj\\work\\code\\python\\machinelearning\\EC-GAN_NIDS-main\\.venv\\lib\\site-packages\\sklearn\\decomposition\\_pca.py\u001B[0m in \u001B[0;36mfit\u001B[1;34m(self, X, y)\u001B[0m\n\u001B[0;32m    357\u001B[0m             \u001B[0mReturns\u001B[0m \u001B[0mthe\u001B[0m \u001B[0minstance\u001B[0m \u001B[0mitself\u001B[0m\u001B[1;33m.\u001B[0m\u001B[1;33m\u001B[0m\u001B[1;33m\u001B[0m\u001B[0m\n\u001B[0;32m    358\u001B[0m         \"\"\"\n\u001B[1;32m--> 359\u001B[1;33m         \u001B[0mself\u001B[0m\u001B[1;33m.\u001B[0m\u001B[0m_fit\u001B[0m\u001B[1;33m(\u001B[0m\u001B[0mX\u001B[0m\u001B[1;33m)\u001B[0m\u001B[1;33m\u001B[0m\u001B[1;33m\u001B[0m\u001B[0m\n\u001B[0m\u001B[0;32m    360\u001B[0m         \u001B[1;32mreturn\u001B[0m \u001B[0mself\u001B[0m\u001B[1;33m\u001B[0m\u001B[1;33m\u001B[0m\u001B[0m\n\u001B[0;32m    361\u001B[0m \u001B[1;33m\u001B[0m\u001B[0m\n",
      "\u001B[1;32mD:\\lzj\\work\\code\\python\\machinelearning\\EC-GAN_NIDS-main\\.venv\\lib\\site-packages\\sklearn\\decomposition\\_pca.py\u001B[0m in \u001B[0;36m_fit\u001B[1;34m(self, X)\u001B[0m\n\u001B[0;32m    430\u001B[0m             \u001B[1;32mreturn\u001B[0m \u001B[0mself\u001B[0m\u001B[1;33m.\u001B[0m\u001B[0m_fit_full\u001B[0m\u001B[1;33m(\u001B[0m\u001B[0mX\u001B[0m\u001B[1;33m,\u001B[0m \u001B[0mn_components\u001B[0m\u001B[1;33m)\u001B[0m\u001B[1;33m\u001B[0m\u001B[1;33m\u001B[0m\u001B[0m\n\u001B[0;32m    431\u001B[0m         \u001B[1;32melif\u001B[0m \u001B[0mself\u001B[0m\u001B[1;33m.\u001B[0m\u001B[0m_fit_svd_solver\u001B[0m \u001B[1;32min\u001B[0m \u001B[1;33m[\u001B[0m\u001B[1;34m'arpack'\u001B[0m\u001B[1;33m,\u001B[0m \u001B[1;34m'randomized'\u001B[0m\u001B[1;33m]\u001B[0m\u001B[1;33m:\u001B[0m\u001B[1;33m\u001B[0m\u001B[1;33m\u001B[0m\u001B[0m\n\u001B[1;32m--> 432\u001B[1;33m             \u001B[1;32mreturn\u001B[0m \u001B[0mself\u001B[0m\u001B[1;33m.\u001B[0m\u001B[0m_fit_truncated\u001B[0m\u001B[1;33m(\u001B[0m\u001B[0mX\u001B[0m\u001B[1;33m,\u001B[0m \u001B[0mn_components\u001B[0m\u001B[1;33m,\u001B[0m \u001B[0mself\u001B[0m\u001B[1;33m.\u001B[0m\u001B[0m_fit_svd_solver\u001B[0m\u001B[1;33m)\u001B[0m\u001B[1;33m\u001B[0m\u001B[1;33m\u001B[0m\u001B[0m\n\u001B[0m\u001B[0;32m    433\u001B[0m         \u001B[1;32melse\u001B[0m\u001B[1;33m:\u001B[0m\u001B[1;33m\u001B[0m\u001B[1;33m\u001B[0m\u001B[0m\n\u001B[0;32m    434\u001B[0m             raise ValueError(\"Unrecognized svd_solver='{0}'\"\n",
      "\u001B[1;32mD:\\lzj\\work\\code\\python\\machinelearning\\EC-GAN_NIDS-main\\.venv\\lib\\site-packages\\sklearn\\decomposition\\_pca.py\u001B[0m in \u001B[0;36m_fit_truncated\u001B[1;34m(self, X, n_components, svd_solver)\u001B[0m\n\u001B[0;32m    546\u001B[0m         \u001B[1;32melif\u001B[0m \u001B[0msvd_solver\u001B[0m \u001B[1;33m==\u001B[0m \u001B[1;34m'randomized'\u001B[0m\u001B[1;33m:\u001B[0m\u001B[1;33m\u001B[0m\u001B[1;33m\u001B[0m\u001B[0m\n\u001B[0;32m    547\u001B[0m             \u001B[1;31m# sign flipping is done inside\u001B[0m\u001B[1;33m\u001B[0m\u001B[1;33m\u001B[0m\u001B[0m\n\u001B[1;32m--> 548\u001B[1;33m             U, S, Vt = randomized_svd(X, n_components=n_components,\n\u001B[0m\u001B[0;32m    549\u001B[0m                                       \u001B[0mn_iter\u001B[0m\u001B[1;33m=\u001B[0m\u001B[0mself\u001B[0m\u001B[1;33m.\u001B[0m\u001B[0miterated_power\u001B[0m\u001B[1;33m,\u001B[0m\u001B[1;33m\u001B[0m\u001B[1;33m\u001B[0m\u001B[0m\n\u001B[0;32m    550\u001B[0m                                       \u001B[0mflip_sign\u001B[0m\u001B[1;33m=\u001B[0m\u001B[1;32mTrue\u001B[0m\u001B[1;33m,\u001B[0m\u001B[1;33m\u001B[0m\u001B[1;33m\u001B[0m\u001B[0m\n",
      "\u001B[1;32mD:\\lzj\\work\\code\\python\\machinelearning\\EC-GAN_NIDS-main\\.venv\\lib\\site-packages\\sklearn\\utils\\validation.py\u001B[0m in \u001B[0;36minner_f\u001B[1;34m(*args, **kwargs)\u001B[0m\n\u001B[0;32m     61\u001B[0m             \u001B[0mextra_args\u001B[0m \u001B[1;33m=\u001B[0m \u001B[0mlen\u001B[0m\u001B[1;33m(\u001B[0m\u001B[0margs\u001B[0m\u001B[1;33m)\u001B[0m \u001B[1;33m-\u001B[0m \u001B[0mlen\u001B[0m\u001B[1;33m(\u001B[0m\u001B[0mall_args\u001B[0m\u001B[1;33m)\u001B[0m\u001B[1;33m\u001B[0m\u001B[1;33m\u001B[0m\u001B[0m\n\u001B[0;32m     62\u001B[0m             \u001B[1;32mif\u001B[0m \u001B[0mextra_args\u001B[0m \u001B[1;33m<=\u001B[0m \u001B[1;36m0\u001B[0m\u001B[1;33m:\u001B[0m\u001B[1;33m\u001B[0m\u001B[1;33m\u001B[0m\u001B[0m\n\u001B[1;32m---> 63\u001B[1;33m                 \u001B[1;32mreturn\u001B[0m \u001B[0mf\u001B[0m\u001B[1;33m(\u001B[0m\u001B[1;33m*\u001B[0m\u001B[0margs\u001B[0m\u001B[1;33m,\u001B[0m \u001B[1;33m**\u001B[0m\u001B[0mkwargs\u001B[0m\u001B[1;33m)\u001B[0m\u001B[1;33m\u001B[0m\u001B[1;33m\u001B[0m\u001B[0m\n\u001B[0m\u001B[0;32m     64\u001B[0m \u001B[1;33m\u001B[0m\u001B[0m\n\u001B[0;32m     65\u001B[0m             \u001B[1;31m# extra_args > 0\u001B[0m\u001B[1;33m\u001B[0m\u001B[1;33m\u001B[0m\u001B[0m\n",
      "\u001B[1;32mD:\\lzj\\work\\code\\python\\machinelearning\\EC-GAN_NIDS-main\\.venv\\lib\\site-packages\\sklearn\\utils\\extmath.py\u001B[0m in \u001B[0;36mrandomized_svd\u001B[1;34m(M, n_components, n_oversamples, n_iter, power_iteration_normalizer, transpose, flip_sign, random_state)\u001B[0m\n\u001B[0;32m    346\u001B[0m         \u001B[0mM\u001B[0m \u001B[1;33m=\u001B[0m \u001B[0mM\u001B[0m\u001B[1;33m.\u001B[0m\u001B[0mT\u001B[0m\u001B[1;33m\u001B[0m\u001B[1;33m\u001B[0m\u001B[0m\n\u001B[0;32m    347\u001B[0m \u001B[1;33m\u001B[0m\u001B[0m\n\u001B[1;32m--> 348\u001B[1;33m     Q = randomized_range_finder(\n\u001B[0m\u001B[0;32m    349\u001B[0m         \u001B[0mM\u001B[0m\u001B[1;33m,\u001B[0m \u001B[0msize\u001B[0m\u001B[1;33m=\u001B[0m\u001B[0mn_random\u001B[0m\u001B[1;33m,\u001B[0m \u001B[0mn_iter\u001B[0m\u001B[1;33m=\u001B[0m\u001B[0mn_iter\u001B[0m\u001B[1;33m,\u001B[0m\u001B[1;33m\u001B[0m\u001B[1;33m\u001B[0m\u001B[0m\n\u001B[0;32m    350\u001B[0m         \u001B[0mpower_iteration_normalizer\u001B[0m\u001B[1;33m=\u001B[0m\u001B[0mpower_iteration_normalizer\u001B[0m\u001B[1;33m,\u001B[0m\u001B[1;33m\u001B[0m\u001B[1;33m\u001B[0m\u001B[0m\n",
      "\u001B[1;32mD:\\lzj\\work\\code\\python\\machinelearning\\EC-GAN_NIDS-main\\.venv\\lib\\site-packages\\sklearn\\utils\\validation.py\u001B[0m in \u001B[0;36minner_f\u001B[1;34m(*args, **kwargs)\u001B[0m\n\u001B[0;32m     61\u001B[0m             \u001B[0mextra_args\u001B[0m \u001B[1;33m=\u001B[0m \u001B[0mlen\u001B[0m\u001B[1;33m(\u001B[0m\u001B[0margs\u001B[0m\u001B[1;33m)\u001B[0m \u001B[1;33m-\u001B[0m \u001B[0mlen\u001B[0m\u001B[1;33m(\u001B[0m\u001B[0mall_args\u001B[0m\u001B[1;33m)\u001B[0m\u001B[1;33m\u001B[0m\u001B[1;33m\u001B[0m\u001B[0m\n\u001B[0;32m     62\u001B[0m             \u001B[1;32mif\u001B[0m \u001B[0mextra_args\u001B[0m \u001B[1;33m<=\u001B[0m \u001B[1;36m0\u001B[0m\u001B[1;33m:\u001B[0m\u001B[1;33m\u001B[0m\u001B[1;33m\u001B[0m\u001B[0m\n\u001B[1;32m---> 63\u001B[1;33m                 \u001B[1;32mreturn\u001B[0m \u001B[0mf\u001B[0m\u001B[1;33m(\u001B[0m\u001B[1;33m*\u001B[0m\u001B[0margs\u001B[0m\u001B[1;33m,\u001B[0m \u001B[1;33m**\u001B[0m\u001B[0mkwargs\u001B[0m\u001B[1;33m)\u001B[0m\u001B[1;33m\u001B[0m\u001B[1;33m\u001B[0m\u001B[0m\n\u001B[0m\u001B[0;32m     64\u001B[0m \u001B[1;33m\u001B[0m\u001B[0m\n\u001B[0;32m     65\u001B[0m             \u001B[1;31m# extra_args > 0\u001B[0m\u001B[1;33m\u001B[0m\u001B[1;33m\u001B[0m\u001B[0m\n",
      "\u001B[1;32mD:\\lzj\\work\\code\\python\\machinelearning\\EC-GAN_NIDS-main\\.venv\\lib\\site-packages\\sklearn\\utils\\extmath.py\u001B[0m in \u001B[0;36mrandomized_range_finder\u001B[1;34m(A, size, n_iter, power_iteration_normalizer, random_state)\u001B[0m\n\u001B[0;32m    231\u001B[0m             \u001B[0mQ\u001B[0m \u001B[1;33m=\u001B[0m \u001B[0msafe_sparse_dot\u001B[0m\u001B[1;33m(\u001B[0m\u001B[0mA\u001B[0m\u001B[1;33m.\u001B[0m\u001B[0mT\u001B[0m\u001B[1;33m,\u001B[0m \u001B[0mQ\u001B[0m\u001B[1;33m)\u001B[0m\u001B[1;33m\u001B[0m\u001B[1;33m\u001B[0m\u001B[0m\n\u001B[0;32m    232\u001B[0m         \u001B[1;32melif\u001B[0m \u001B[0mpower_iteration_normalizer\u001B[0m \u001B[1;33m==\u001B[0m \u001B[1;34m'LU'\u001B[0m\u001B[1;33m:\u001B[0m\u001B[1;33m\u001B[0m\u001B[1;33m\u001B[0m\u001B[0m\n\u001B[1;32m--> 233\u001B[1;33m             \u001B[0mQ\u001B[0m\u001B[1;33m,\u001B[0m \u001B[0m_\u001B[0m \u001B[1;33m=\u001B[0m \u001B[0mlinalg\u001B[0m\u001B[1;33m.\u001B[0m\u001B[0mlu\u001B[0m\u001B[1;33m(\u001B[0m\u001B[0msafe_sparse_dot\u001B[0m\u001B[1;33m(\u001B[0m\u001B[0mA\u001B[0m\u001B[1;33m,\u001B[0m \u001B[0mQ\u001B[0m\u001B[1;33m)\u001B[0m\u001B[1;33m,\u001B[0m \u001B[0mpermute_l\u001B[0m\u001B[1;33m=\u001B[0m\u001B[1;32mTrue\u001B[0m\u001B[1;33m)\u001B[0m\u001B[1;33m\u001B[0m\u001B[1;33m\u001B[0m\u001B[0m\n\u001B[0m\u001B[0;32m    234\u001B[0m             \u001B[0mQ\u001B[0m\u001B[1;33m,\u001B[0m \u001B[0m_\u001B[0m \u001B[1;33m=\u001B[0m \u001B[0mlinalg\u001B[0m\u001B[1;33m.\u001B[0m\u001B[0mlu\u001B[0m\u001B[1;33m(\u001B[0m\u001B[0msafe_sparse_dot\u001B[0m\u001B[1;33m(\u001B[0m\u001B[0mA\u001B[0m\u001B[1;33m.\u001B[0m\u001B[0mT\u001B[0m\u001B[1;33m,\u001B[0m \u001B[0mQ\u001B[0m\u001B[1;33m)\u001B[0m\u001B[1;33m,\u001B[0m \u001B[0mpermute_l\u001B[0m\u001B[1;33m=\u001B[0m\u001B[1;32mTrue\u001B[0m\u001B[1;33m)\u001B[0m\u001B[1;33m\u001B[0m\u001B[1;33m\u001B[0m\u001B[0m\n\u001B[0;32m    235\u001B[0m         \u001B[1;32melif\u001B[0m \u001B[0mpower_iteration_normalizer\u001B[0m \u001B[1;33m==\u001B[0m \u001B[1;34m'QR'\u001B[0m\u001B[1;33m:\u001B[0m\u001B[1;33m\u001B[0m\u001B[1;33m\u001B[0m\u001B[0m\n",
      "\u001B[1;32mD:\\lzj\\work\\code\\python\\machinelearning\\EC-GAN_NIDS-main\\.venv\\lib\\site-packages\\sklearn\\utils\\validation.py\u001B[0m in \u001B[0;36minner_f\u001B[1;34m(*args, **kwargs)\u001B[0m\n\u001B[0;32m     61\u001B[0m             \u001B[0mextra_args\u001B[0m \u001B[1;33m=\u001B[0m \u001B[0mlen\u001B[0m\u001B[1;33m(\u001B[0m\u001B[0margs\u001B[0m\u001B[1;33m)\u001B[0m \u001B[1;33m-\u001B[0m \u001B[0mlen\u001B[0m\u001B[1;33m(\u001B[0m\u001B[0mall_args\u001B[0m\u001B[1;33m)\u001B[0m\u001B[1;33m\u001B[0m\u001B[1;33m\u001B[0m\u001B[0m\n\u001B[0;32m     62\u001B[0m             \u001B[1;32mif\u001B[0m \u001B[0mextra_args\u001B[0m \u001B[1;33m<=\u001B[0m \u001B[1;36m0\u001B[0m\u001B[1;33m:\u001B[0m\u001B[1;33m\u001B[0m\u001B[1;33m\u001B[0m\u001B[0m\n\u001B[1;32m---> 63\u001B[1;33m                 \u001B[1;32mreturn\u001B[0m \u001B[0mf\u001B[0m\u001B[1;33m(\u001B[0m\u001B[1;33m*\u001B[0m\u001B[0margs\u001B[0m\u001B[1;33m,\u001B[0m \u001B[1;33m**\u001B[0m\u001B[0mkwargs\u001B[0m\u001B[1;33m)\u001B[0m\u001B[1;33m\u001B[0m\u001B[1;33m\u001B[0m\u001B[0m\n\u001B[0m\u001B[0;32m     64\u001B[0m \u001B[1;33m\u001B[0m\u001B[0m\n\u001B[0;32m     65\u001B[0m             \u001B[1;31m# extra_args > 0\u001B[0m\u001B[1;33m\u001B[0m\u001B[1;33m\u001B[0m\u001B[0m\n",
      "\u001B[1;32mD:\\lzj\\work\\code\\python\\machinelearning\\EC-GAN_NIDS-main\\.venv\\lib\\site-packages\\sklearn\\utils\\extmath.py\u001B[0m in \u001B[0;36msafe_sparse_dot\u001B[1;34m(a, b, dense_output)\u001B[0m\n\u001B[0;32m    150\u001B[0m             \u001B[0mret\u001B[0m \u001B[1;33m=\u001B[0m \u001B[0mnp\u001B[0m\u001B[1;33m.\u001B[0m\u001B[0mdot\u001B[0m\u001B[1;33m(\u001B[0m\u001B[0ma\u001B[0m\u001B[1;33m,\u001B[0m \u001B[0mb\u001B[0m\u001B[1;33m)\u001B[0m\u001B[1;33m\u001B[0m\u001B[1;33m\u001B[0m\u001B[0m\n\u001B[0;32m    151\u001B[0m     \u001B[1;32melse\u001B[0m\u001B[1;33m:\u001B[0m\u001B[1;33m\u001B[0m\u001B[1;33m\u001B[0m\u001B[0m\n\u001B[1;32m--> 152\u001B[1;33m         \u001B[0mret\u001B[0m \u001B[1;33m=\u001B[0m \u001B[0ma\u001B[0m \u001B[1;33m@\u001B[0m \u001B[0mb\u001B[0m\u001B[1;33m\u001B[0m\u001B[1;33m\u001B[0m\u001B[0m\n\u001B[0m\u001B[0;32m    153\u001B[0m \u001B[1;33m\u001B[0m\u001B[0m\n\u001B[0;32m    154\u001B[0m     if (sparse.issparse(a) and sparse.issparse(b)\n",
      "\u001B[1;31mKeyboardInterrupt\u001B[0m: "
     ]
    }
   ],
   "source": [
    "x_train, x_test, y_train, y_test = preproc_data(data, train_sample=0.75, pca_dim=31)\n"
   ],
   "metadata": {
    "collapsed": false,
    "ExecuteTime": {
     "end_time": "2024-06-26T12:24:02.281498Z",
     "start_time": "2024-06-26T12:23:53.793223Z"
    }
   },
   "execution_count": 10
  },
  {
   "cell_type": "code",
   "outputs": [],
   "source": [
    "np.save(\"../data/data-test-unkwonattack/x_train_100.npy\", x_train)\n",
    "np.save(\"../data/data-test-unkwonattack/y_train_100.npy\", y_train)\n",
    "np.save(\"../data/data-test-unkwonattack/x_test_100.npy\", x_test)\n",
    "np.save(\"../data/data-test-unkwonattack/y_test_100.npy\", y_test)"
   ],
   "metadata": {
    "collapsed": false,
    "ExecuteTime": {
     "end_time": "2024-06-26T09:43:39.169075600Z",
     "start_time": "2024-06-26T09:43:38.865036Z"
    }
   },
   "execution_count": 8
  },
  {
   "cell_type": "code",
   "outputs": [],
   "source": [],
   "metadata": {
    "collapsed": false
   }
  }
 ],
 "metadata": {
  "kernelspec": {
   "display_name": "Python 3 (ipykernel)",
   "language": "python",
   "name": "python3"
  },
  "language_info": {
   "codemirror_mode": {
    "name": "ipython",
    "version": 3
   },
   "file_extension": ".py",
   "mimetype": "text/x-python",
   "name": "python",
   "nbconvert_exporter": "python",
   "pygments_lexer": "ipython3",
   "version": "3.8.10"
  },
  "toc": {
   "base_numbering": 1,
   "nav_menu": {},
   "number_sections": true,
   "sideBar": true,
   "skip_h1_title": false,
   "title_cell": "Table of Contents",
   "title_sidebar": "Contents",
   "toc_cell": false,
   "toc_position": {},
   "toc_section_display": true,
   "toc_window_display": false
  },
  "varInspector": {
   "cols": {
    "lenName": 16,
    "lenType": 16,
    "lenVar": 40
   },
   "kernels_config": {
    "python": {
     "delete_cmd_postfix": "",
     "delete_cmd_prefix": "del ",
     "library": "var_list.py",
     "varRefreshCmd": "print(var_dic_list())"
    },
    "r": {
     "delete_cmd_postfix": ") ",
     "delete_cmd_prefix": "rm(",
     "library": "var_list.r",
     "varRefreshCmd": "cat(var_dic_list()) "
    }
   },
   "types_to_exclude": [
    "module",
    "function",
    "builtin_function_or_method",
    "instance",
    "_Feature"
   ],
   "window_display": false
  }
 },
 "nbformat": 4,
 "nbformat_minor": 4
}
